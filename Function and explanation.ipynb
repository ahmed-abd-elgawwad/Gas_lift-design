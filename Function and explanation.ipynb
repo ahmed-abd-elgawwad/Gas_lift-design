{
 "cells": [
  {
   "cell_type": "markdown",
   "id": "architectural-count",
   "metadata": {},
   "source": [
    "### Find intersection"
   ]
  },
  {
   "cell_type": "markdown",
   "id": "innovative-november",
   "metadata": {},
   "source": [
    "## Equations:\n",
    "#### - reservoir line :\n",
    "- P - Gs * D = (Pwf - Gs * D_total)\n",
    "#### - casing line:\n",
    "- P - (Pcs/40,000) * D = Pcs\n",
    "\n",
    "    "
   ]
  },
  {
   "cell_type": "code",
   "execution_count": 1,
   "id": "dimensional-basics",
   "metadata": {},
   "outputs": [],
   "source": [
    "import numpy as np\n",
    "import pandas as pd "
   ]
  },
  {
   "cell_type": "code",
   "execution_count": 2,
   "id": "boolean-lecture",
   "metadata": {},
   "outputs": [],
   "source": [
    "def get_equations(Pcs,j,BHSP,Q,Gs,D_total):\n",
    "    \"\"\"\n",
    "    get the parametters of the equation of the formation and casing lines at the form\n",
    "    a * Pressure + b * Depth = Constant\n",
    "    -------------------------------------\n",
    "    Pcs : surface injection pressure (psi) \n",
    "    j : productivity index \n",
    "    BHSP : bottomhole static pressure (psi)\n",
    "    Q : oil flow rate ( bbl / day)\n",
    "    Gs : static gradient ( psi/ft )\n",
    "    D_total : total depth to the perforation (Ft)\n",
    "    return \n",
    "       1- equation of reservoir line\n",
    "       2- equation of caisng line\n",
    "    \"\"\"\n",
    "    # so that we get injection point\n",
    "    # the gradient of the surface injection pressure increases so take the gradint of the Pcs put reduce the \n",
    "    # intercept \n",
    "    # the equation is : ( P = Pcs + ( Pcs/40,000) * D )\n",
    "    # from the equation the gradient changes with the pressure so , take PCs/40,000 \n",
    "    # so the equation to get the ingection pint will be  P =(Pcs-100) + (Pcs/40,000) * D\n",
    "#     Pcs= Pcs-100\n",
    "    Gcs = Pcs/40000\n",
    "    Pwf= BHSP-(Q/j)\n",
    "    # reservoir line \n",
    "    reservoir_line = [1 ,-Gs, (Pwf - (Gs* D_total))]\n",
    "    # casing line\n",
    "    casing_line = [1,-Gcs,Pcs-100]\n",
    "    \n",
    "    return reservoir_line, casing_line"
   ]
  },
  {
   "cell_type": "code",
   "execution_count": 3,
   "id": "freelance-chair",
   "metadata": {},
   "outputs": [],
   "source": [
    "# get_equations()"
   ]
  },
  {
   "cell_type": "code",
   "execution_count": 4,
   "id": "opposed-beads",
   "metadata": {},
   "outputs": [
    {
     "data": {
      "text/plain": [
       "([1, -0.5, -1985.2941176470588], [1, -0.02175, 770])"
      ]
     },
     "execution_count": 4,
     "metadata": {},
     "output_type": "execute_result"
    }
   ],
   "source": [
    "reservoir_line,casing_line= get_equations(870,2.55,2000,600,.5,7500)\n",
    "reservoir_line,casing_line"
   ]
  },
  {
   "cell_type": "code",
   "execution_count": 5,
   "id": "hungry-wealth",
   "metadata": {},
   "outputs": [],
   "source": [
    "def find_intersection(line_1,line_2):\n",
    "    \"\"\"\n",
    "    Find intersection of two lines using the cramers-rule \n",
    "    -------------------------------------------------\n",
    "    line_1 : coef of line_1 , in the form (a*P + b*Depth = c) , put list of [a1,b1,c1]\n",
    "    line_2 : coef of line_2 , in the form (a*P + b*Depth = c) , put list of [a2,b2,c2]\n",
    "    return : X,Y of the intersection\n",
    "    ------------------------------------------------\n",
    "    D = [[a1,b1],\n",
    "         [a2,b2]]\n",
    "    Dx= [ [c1,b1],\n",
    "          [c2,b2]]\n",
    "    Dy= [ [a1,c1],\n",
    "          [a2,c2]]\n",
    "          \n",
    "    \"\"\"\n",
    "    Z= np.array([ [line_1[0],line_1[1]],[line_2[0],line_2[1]] ])\n",
    "    X= np.array([ [line_1[-1],line_1[-2]],[line_2[-1],line_2[-2]] ])\n",
    "    Y= np.array([ [line_1[0],line_1[-1]],[line_2[0],line_2[-1]] ])\n",
    "    try:\n",
    "        D = np.linalg.det(Z)\n",
    "        Dx= np.linalg.det(X)\n",
    "        Dy= np.linalg.det(Y)\n",
    "        P= Dx/D\n",
    "        Depth= Dy/D \n",
    "        return np.round(Depth,2) , np.round(P,2)\n",
    "    except:\n",
    "        print(\"Error, there is no intersection\")"
   ]
  },
  {
   "cell_type": "code",
   "execution_count": 6,
   "id": "single-modeling",
   "metadata": {},
   "outputs": [
    {
     "data": {
      "text/plain": [
       "(6486.49, 1394.59)"
      ]
     },
     "execution_count": 6,
     "metadata": {},
     "output_type": "execute_result"
    }
   ],
   "source": [
    "find_intersection([1,-.4,-1200],[1,-0.03,1200])"
   ]
  },
  {
   "cell_type": "code",
   "execution_count": 7,
   "id": "least-lawsuit",
   "metadata": {},
   "outputs": [
    {
     "data": {
      "text/plain": [
       "(5761.2, 895.31)"
      ]
     },
     "execution_count": 7,
     "metadata": {},
     "output_type": "execute_result"
    }
   ],
   "source": [
    "find_intersection(reservoir_line,casing_line)"
   ]
  },
  {
   "cell_type": "code",
   "execution_count": 8,
   "id": "higher-hayes",
   "metadata": {},
   "outputs": [],
   "source": [
    "def get_GF1_GF2(Tubing_head,Pcs,injection_depth, injection_pressure):\n",
    "    \"\"\"\n",
    "    Tubing_head : tubing head pressure (Psi)\n",
    "    Pcs : surface casing pressure (Psi)\n",
    "    injection_depth : depth at the pint of injection (Ft)\n",
    "    injection_pressure : pressure of the reservoir at the injection point (Psi)\n",
    "    return : \n",
    "        Gf1 -> of the line from the (wellhead[Pwh1] to injection point)\n",
    "        Gf2 -> of the line from the (modified_wellhead[Pwh2] to injection point\n",
    "        Pwh2 -> modified wellhead pressure\n",
    "    \"\"\"\n",
    "    Gf1 = (injection_pressure - Tubing_head) / injection_depth\n",
    "    Pwh2= Tubing_head + 0.2*(Pcs - Tubing_head)\n",
    "    Gf2=  (injection_pressure - Pwh2) / injection_depth\n",
    "    return round(Gf1,3) , round(Gf2,3), round(Pwh2,3)"
   ]
  },
  {
   "cell_type": "code",
   "execution_count": 9,
   "id": "passive-velvet",
   "metadata": {},
   "outputs": [
    {
     "data": {
      "text/plain": [
       "(0.136, 0.109, 254.0)"
      ]
     },
     "execution_count": 9,
     "metadata": {},
     "output_type": "execute_result"
    }
   ],
   "source": [
    "# get_GF1_GF2()\n",
    "get_GF1_GF2(100,870,5731.241014346458,880.3263895261689)"
   ]
  },
  {
   "cell_type": "markdown",
   "id": "double-glossary",
   "metadata": {},
   "source": [
    "## Equations:\n",
    "#### - gas line :\n",
    "- P - (Pcs/40,000) = Pcs\n",
    "#### - first line of the valves:\n",
    "- P - (Glf * D) = Pwh1\n",
    "#### -following lines lines:\n",
    "- P - (Glf * D) = (Pwh2+ Gf2*Di-1) \n",
    "    "
   ]
  },
  {
   "cell_type": "code",
   "execution_count": 10,
   "id": "alike-yugoslavia",
   "metadata": {},
   "outputs": [],
   "source": [
    "# the main loop\n",
    "def get_spacings(Pwh1,Pwh2,Pcs,Pko,Glf,Gf2,injection_depth,injection_pressure):\n",
    "    # first initiat the lists contain the informations\n",
    "    # depth for the depths of the valves\n",
    "    depths=[]\n",
    "    # P1 -> which is the pressure of the casing\n",
    "    P1=[]\n",
    "    # P2 -> the pressure of the tubing\n",
    "    P2=[]  \n",
    "    # the parameter of the line of kick_off\n",
    "    casing_ko=[1,(-Pko/40000),Pko]\n",
    "    # the parameters of the line from the Pwh1 to Pko\n",
    "    line_1= [1,-Glf,Pwh1]\n",
    "    # get the point of intersection between two lines and return the depth and casing pressure\n",
    "    depth,p1= find_intersection(casing_ko,line_1)\n",
    "    depths.append(depth)\n",
    "    P1.append(p1)\n",
    "    # secnd we get the pressure at the tubing by the formula Pt= Pwh2 + Glf * depth\n",
    "    p2= Pwh2 + Gf2*depths[-1]\n",
    "    P2.append(p2)\n",
    "    # due to the pressure differences we must fix the gradient of the casing line\n",
    "    Gcs = Pcs/40000\n",
    "    # using while loop to get the spacing between the valves\n",
    "    \n",
    "    while depths[-1] < injection_depth:\n",
    "        # because the each time i changes the axis , so each time we will cacluate the pressure of the casing \n",
    "        # at the previous depth and make the equation of the line\n",
    "        \n",
    "        Pc_0 = Pcs*(1+(depths[-1]/40000)) # Pcs at previous depth\n",
    "       #casing_ps=[1,-Pc_0/40000,Pc_0]\n",
    "        casing_ps=[1,-Gcs,Pc_0]   # put the parameters of the casing line\n",
    "        line_2= [1,-Glf,P2[-1]]  # put the parameters of the new_line to get the intersect with\n",
    "        # get the new depth and new pressure\n",
    "        depth,p1= find_intersection(casing_ps,line_2)\n",
    "        # the depth of the new valve is the ( new_depth + previous_depth)\n",
    "        depths.append(depth + depths[-1])\n",
    "        P1.append(p1)\n",
    "        # get the new tubing_pressure \n",
    "        p2= Pwh2 + Gf2*depths[-1]\n",
    "        P2.append(p2)\n",
    "    # the while loop will end if the depth of the valve exceed the injection_point \n",
    "    dics={\n",
    "    \"Depth\":np.round(depths,2),\n",
    "     \"P1\":np.round(P1,2),\n",
    "     \"P2\":np.round(P2,2)\n",
    "     }\n",
    "\n",
    "    # make a DataFrame of the data \n",
    "    df =pd.DataFrame(dics)\n",
    "    # as the last depth of the data exceed the injection depth _ so remove the last row\n",
    "    df.drop(axis=0,index=df.index[-1],inplace=True)\n",
    "    # so after removing the last row , we will put the informations at the Injection_Depth\n",
    "    final_depth=np.round(injection_depth,2)\n",
    "    # get casing_pressure at the injection point\n",
    "    p1= Pcs * (1+ (final_depth / 40000))\n",
    "    # the tubing pressure at the injection point\n",
    "    p2= injection_pressure\n",
    "    final={\n",
    "    \"Depth\":np.round(injection_depth,2),\n",
    "     \"P1\":np.round(p1,2),\n",
    "     \"P2\":np.round(p2,2)\n",
    "     }\n",
    "    # add the new_row\n",
    "    df=df.append(final,ignore_index=True)\n",
    "    # the following to check if the last two valves are close to each other\n",
    "    # if that is True , remove the valve befor the operating vale , the tollerance here is 200 ft\n",
    "    if (df.loc[df.index[-1],\"Depth\"] - df.loc[df.index[-2],\"Depth\"])  < 200:\n",
    "        df.drop(axis=0,index=df.index[-2],inplace=True)\n",
    "        \n",
    "    # write the number of valves\n",
    "    valves= [i+1 for i in range(len(df[\"Depth\"]))]\n",
    "    df[\"Valve .No\"]= valves\n",
    "    # df=df[[\"Valve .No\",\"Depth\",\"P1\",\"P2\"]]\n",
    "    # reorder the columns and get the final table \n",
    "    cols=[\"Valve .No\",\"Depth\",\"P1\",\"P2\"]\n",
    "    df=df.reindex(columns=cols)\n",
    "    return df \n"
   ]
  },
  {
   "cell_type": "code",
   "execution_count": 11,
   "id": "unauthorized-agenda",
   "metadata": {},
   "outputs": [],
   "source": [
    "df=get_spacings(100,254.0,870,920,.5, 0.10928285653287778,5761.2,895.31)"
   ]
  },
  {
   "cell_type": "code",
   "execution_count": 12,
   "id": "intellectual-parcel",
   "metadata": {},
   "outputs": [
    {
     "data": {
      "text/html": [
       "<div>\n",
       "<style scoped>\n",
       "    .dataframe tbody tr th:only-of-type {\n",
       "        vertical-align: middle;\n",
       "    }\n",
       "\n",
       "    .dataframe tbody tr th {\n",
       "        vertical-align: top;\n",
       "    }\n",
       "\n",
       "    .dataframe thead th {\n",
       "        text-align: right;\n",
       "    }\n",
       "</style>\n",
       "<table border=\"1\" class=\"dataframe\">\n",
       "  <thead>\n",
       "    <tr style=\"text-align: right;\">\n",
       "      <th></th>\n",
       "      <th>Valve .No</th>\n",
       "      <th>Depth</th>\n",
       "      <th>P1</th>\n",
       "      <th>P2</th>\n",
       "    </tr>\n",
       "  </thead>\n",
       "  <tbody>\n",
       "    <tr>\n",
       "      <th>0</th>\n",
       "      <td>1</td>\n",
       "      <td>1719.08</td>\n",
       "      <td>959.54</td>\n",
       "      <td>441.87</td>\n",
       "    </tr>\n",
       "    <tr>\n",
       "      <th>1</th>\n",
       "      <td>2</td>\n",
       "      <td>2692.47</td>\n",
       "      <td>928.56</td>\n",
       "      <td>548.24</td>\n",
       "    </tr>\n",
       "    <tr>\n",
       "      <th>2</th>\n",
       "      <td>3</td>\n",
       "      <td>3487.70</td>\n",
       "      <td>945.86</td>\n",
       "      <td>635.15</td>\n",
       "    </tr>\n",
       "    <tr>\n",
       "      <th>3</th>\n",
       "      <td>4</td>\n",
       "      <td>4137.38</td>\n",
       "      <td>959.99</td>\n",
       "      <td>706.14</td>\n",
       "    </tr>\n",
       "    <tr>\n",
       "      <th>4</th>\n",
       "      <td>5</td>\n",
       "      <td>4668.16</td>\n",
       "      <td>971.53</td>\n",
       "      <td>764.15</td>\n",
       "    </tr>\n",
       "    <tr>\n",
       "      <th>5</th>\n",
       "      <td>6</td>\n",
       "      <td>5101.79</td>\n",
       "      <td>980.96</td>\n",
       "      <td>811.54</td>\n",
       "    </tr>\n",
       "    <tr>\n",
       "      <th>6</th>\n",
       "      <td>7</td>\n",
       "      <td>5456.05</td>\n",
       "      <td>988.67</td>\n",
       "      <td>850.25</td>\n",
       "    </tr>\n",
       "    <tr>\n",
       "      <th>8</th>\n",
       "      <td>8</td>\n",
       "      <td>5761.20</td>\n",
       "      <td>995.31</td>\n",
       "      <td>895.31</td>\n",
       "    </tr>\n",
       "  </tbody>\n",
       "</table>\n",
       "</div>"
      ],
      "text/plain": [
       "   Valve .No    Depth      P1      P2\n",
       "0          1  1719.08  959.54  441.87\n",
       "1          2  2692.47  928.56  548.24\n",
       "2          3  3487.70  945.86  635.15\n",
       "3          4  4137.38  959.99  706.14\n",
       "4          5  4668.16  971.53  764.15\n",
       "5          6  5101.79  980.96  811.54\n",
       "6          7  5456.05  988.67  850.25\n",
       "8          8  5761.20  995.31  895.31"
      ]
     },
     "execution_count": 12,
     "metadata": {},
     "output_type": "execute_result"
    }
   ],
   "source": [
    "df "
   ]
  },
  {
   "cell_type": "code",
   "execution_count": null,
   "id": "atomic-exchange",
   "metadata": {},
   "outputs": [],
   "source": [
    "df.loc[df.index[-1],\"Depth\"] - df.loc[df.index[-2],\"Depth\"]"
   ]
  },
  {
   "cell_type": "code",
   "execution_count": 14,
   "id": "directed-working",
   "metadata": {},
   "outputs": [],
   "source": [
    "casing=[1,(-870/40000),870]\n",
    "line_2= [1,-.5,440]\n",
    "depth,p1= find_intersection(casing,line_2) \n",
    "p2= 254 + .10928285653287778*2600"
   ]
  },
  {
   "cell_type": "code",
   "execution_count": 15,
   "id": "overhead-storage",
   "metadata": {},
   "outputs": [
    {
     "data": {
      "text/plain": [
       "899.11"
      ]
     },
     "execution_count": 15,
     "metadata": {},
     "output_type": "execute_result"
    }
   ],
   "source": [
    "depth"
   ]
  },
  {
   "cell_type": "code",
   "execution_count": 16,
   "id": "illegal-figure",
   "metadata": {},
   "outputs": [
    {
     "data": {
      "text/plain": [
       "889.56"
      ]
     },
     "execution_count": 16,
     "metadata": {},
     "output_type": "execute_result"
    }
   ],
   "source": [
    "p1"
   ]
  },
  {
   "cell_type": "code",
   "execution_count": 17,
   "id": "answering-match",
   "metadata": {},
   "outputs": [
    {
     "data": {
      "text/plain": [
       "538.1354269854822"
      ]
     },
     "execution_count": 17,
     "metadata": {},
     "output_type": "execute_result"
    }
   ],
   "source": [
    "p2 "
   ]
  },
  {
   "cell_type": "code",
   "execution_count": 82,
   "id": "constitutional-surrey",
   "metadata": {},
   "outputs": [],
   "source": [
    "def all_in_one(total_depth,wellhead_pressure, Pcs ,Pko,Glf,Gs,Q,BHSP,J,Tre,Ts,R):\n",
    "    \"\"\"\n",
    "    total_depth : total depth to the pay zone  ( ft )\n",
    "    wellhead_pressure : tuning pressure at the surface ( psi )\n",
    "    Pcs : surface casing pressure ( injection pressure) ( psi )\n",
    "    Pko : kick_off pressure if it exists ( psi )\n",
    "    Glf : load flowing gradient ( psi/ft )\n",
    "    Gs : static gradient ( psi/ft )\n",
    "    Q : oil flow rate ( bbl/day)\n",
    "    BHSP : bottom_hole static pressure -> reservoir pressure\n",
    "    J : productivity index \n",
    "    Tres : reservoir temperature ( F )\n",
    "    Ts : surface following temperature ( F )\n",
    "    R: port size \n",
    "    \"\"\"\n",
    "    reservoir_line,casing_line = get_equations(Pcs,J,BHSP,Q,Gs,total_depth)\n",
    "    injection_depth,injection_pressure = find_intersection(reservoir_line,casing_line)\n",
    "    Gf1,Gf2,Pwh2 = get_GF1_GF2(wellhead_pressure,Pcs,injection_depth,injection_pressure)\n",
    "    df=get_spacings(wellhead_pressure,Pwh2,Pcs,Pko,Glf,Gf2,injection_depth,injection_pressure) \n",
    "    # make the Ct and get Pd and also Pvo\n",
    "    Ct_data= pd.read_csv(\"Ct_Data.csv\")\n",
    "    Tg= ((Tre-Ts) / total_depth)\n",
    "    df[\"Temp\"] = np.round(Ts + Tg * df[\"Depth\"],2)\n",
    "    df[\"Pdt\"] = np.round((1-R)*df[\"P1\"] + R*df[\"P2\"],2)\n",
    "    df[\"Ct\"]= df.Temp.apply(lambda T: (Ct_data[(Ct_data[\"temp\"]== round(T))][\"Ct\"].values)[0] ) \n",
    "    df[\"Pd\"]=round(df[\"Pdt\"] * df[\"Ct\"],2)\n",
    "    df[\"Pvo\"] = round(df[\"Pd\"] / (1-R) ,2)\n",
    "    \n",
    "    return df"
   ]
  },
  {
   "cell_type": "code",
   "execution_count": 83,
   "id": "breathing-northeast",
   "metadata": {},
   "outputs": [],
   "source": [
    "df_2=all_in_one(7500,100,870,920,.5,.5,600,2000,2.55,180,100,.1534)"
   ]
  },
  {
   "cell_type": "code",
   "execution_count": 84,
   "id": "american-field",
   "metadata": {},
   "outputs": [
    {
     "data": {
      "text/html": [
       "<div>\n",
       "<style scoped>\n",
       "    .dataframe tbody tr th:only-of-type {\n",
       "        vertical-align: middle;\n",
       "    }\n",
       "\n",
       "    .dataframe tbody tr th {\n",
       "        vertical-align: top;\n",
       "    }\n",
       "\n",
       "    .dataframe thead th {\n",
       "        text-align: right;\n",
       "    }\n",
       "</style>\n",
       "<table border=\"1\" class=\"dataframe\">\n",
       "  <thead>\n",
       "    <tr style=\"text-align: right;\">\n",
       "      <th></th>\n",
       "      <th>Valve .No</th>\n",
       "      <th>Depth</th>\n",
       "      <th>P1</th>\n",
       "      <th>P2</th>\n",
       "      <th>Temp</th>\n",
       "      <th>Pdt</th>\n",
       "      <th>Ct</th>\n",
       "      <th>Pd</th>\n",
       "      <th>Pvo</th>\n",
       "    </tr>\n",
       "  </thead>\n",
       "  <tbody>\n",
       "    <tr>\n",
       "      <th>0</th>\n",
       "      <td>1</td>\n",
       "      <td>1719.08</td>\n",
       "      <td>959.54</td>\n",
       "      <td>444.82</td>\n",
       "      <td>118.34</td>\n",
       "      <td>880.58</td>\n",
       "      <td>0.889</td>\n",
       "      <td>782.84</td>\n",
       "      <td>924.69</td>\n",
       "    </tr>\n",
       "    <tr>\n",
       "      <th>1</th>\n",
       "      <td>2</td>\n",
       "      <td>2686.30</td>\n",
       "      <td>928.43</td>\n",
       "      <td>552.18</td>\n",
       "      <td>128.65</td>\n",
       "      <td>870.71</td>\n",
       "      <td>0.871</td>\n",
       "      <td>758.39</td>\n",
       "      <td>895.81</td>\n",
       "    </tr>\n",
       "    <tr>\n",
       "      <th>2</th>\n",
       "      <td>3</td>\n",
       "      <td>3473.02</td>\n",
       "      <td>945.54</td>\n",
       "      <td>639.51</td>\n",
       "      <td>137.05</td>\n",
       "      <td>898.59</td>\n",
       "      <td>0.858</td>\n",
       "      <td>770.99</td>\n",
       "      <td>910.69</td>\n",
       "    </tr>\n",
       "    <tr>\n",
       "      <th>3</th>\n",
       "      <td>4</td>\n",
       "      <td>4112.92</td>\n",
       "      <td>959.46</td>\n",
       "      <td>710.53</td>\n",
       "      <td>143.87</td>\n",
       "      <td>921.27</td>\n",
       "      <td>0.847</td>\n",
       "      <td>780.32</td>\n",
       "      <td>921.71</td>\n",
       "    </tr>\n",
       "    <tr>\n",
       "      <th>4</th>\n",
       "      <td>5</td>\n",
       "      <td>4633.40</td>\n",
       "      <td>970.78</td>\n",
       "      <td>768.31</td>\n",
       "      <td>149.42</td>\n",
       "      <td>939.72</td>\n",
       "      <td>0.839</td>\n",
       "      <td>788.43</td>\n",
       "      <td>931.29</td>\n",
       "    </tr>\n",
       "    <tr>\n",
       "      <th>5</th>\n",
       "      <td>6</td>\n",
       "      <td>5056.75</td>\n",
       "      <td>979.98</td>\n",
       "      <td>815.30</td>\n",
       "      <td>153.94</td>\n",
       "      <td>954.72</td>\n",
       "      <td>0.832</td>\n",
       "      <td>794.33</td>\n",
       "      <td>938.26</td>\n",
       "    </tr>\n",
       "    <tr>\n",
       "      <th>6</th>\n",
       "      <td>7</td>\n",
       "      <td>5401.10</td>\n",
       "      <td>987.47</td>\n",
       "      <td>853.52</td>\n",
       "      <td>157.61</td>\n",
       "      <td>966.92</td>\n",
       "      <td>0.826</td>\n",
       "      <td>798.68</td>\n",
       "      <td>943.40</td>\n",
       "    </tr>\n",
       "    <tr>\n",
       "      <th>8</th>\n",
       "      <td>8</td>\n",
       "      <td>5761.20</td>\n",
       "      <td>995.31</td>\n",
       "      <td>895.31</td>\n",
       "      <td>161.45</td>\n",
       "      <td>979.97</td>\n",
       "      <td>0.822</td>\n",
       "      <td>805.54</td>\n",
       "      <td>951.50</td>\n",
       "    </tr>\n",
       "  </tbody>\n",
       "</table>\n",
       "</div>"
      ],
      "text/plain": [
       "   Valve .No    Depth      P1      P2    Temp     Pdt     Ct      Pd     Pvo\n",
       "0          1  1719.08  959.54  444.82  118.34  880.58  0.889  782.84  924.69\n",
       "1          2  2686.30  928.43  552.18  128.65  870.71  0.871  758.39  895.81\n",
       "2          3  3473.02  945.54  639.51  137.05  898.59  0.858  770.99  910.69\n",
       "3          4  4112.92  959.46  710.53  143.87  921.27  0.847  780.32  921.71\n",
       "4          5  4633.40  970.78  768.31  149.42  939.72  0.839  788.43  931.29\n",
       "5          6  5056.75  979.98  815.30  153.94  954.72  0.832  794.33  938.26\n",
       "6          7  5401.10  987.47  853.52  157.61  966.92  0.826  798.68  943.40\n",
       "8          8  5761.20  995.31  895.31  161.45  979.97  0.822  805.54  951.50"
      ]
     },
     "execution_count": 84,
     "metadata": {},
     "output_type": "execute_result"
    }
   ],
   "source": [
    "df_2"
   ]
  },
  {
   "cell_type": "code",
   "execution_count": 65,
   "id": "alpha-bahrain",
   "metadata": {},
   "outputs": [
    {
     "data": {
      "text/plain": [
       "0.921"
      ]
     },
     "execution_count": 65,
     "metadata": {},
     "output_type": "execute_result"
    }
   ],
   "source": [
    "Ct_data= pd.read_csv(\"Ct_Data.csv\")\n",
    "x=100\n",
    "(Ct_data[(Ct_data[\"temp\"]==x)][\"Ct\"].values)[0] "
   ]
  },
  {
   "cell_type": "code",
   "execution_count": null,
   "id": "killing-chuck",
   "metadata": {},
   "outputs": [],
   "source": []
  }
 ],
 "metadata": {
  "kernelspec": {
   "display_name": "Python 3",
   "language": "python",
   "name": "python3"
  },
  "language_info": {
   "codemirror_mode": {
    "name": "ipython",
    "version": 3
   },
   "file_extension": ".py",
   "mimetype": "text/x-python",
   "name": "python",
   "nbconvert_exporter": "python",
   "pygments_lexer": "ipython3",
   "version": "3.8.2"
  }
 },
 "nbformat": 4,
 "nbformat_minor": 5
}
